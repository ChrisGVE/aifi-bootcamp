{
 "cells": [
  {
   "cell_type": "markdown",
   "id": "6150201d",
   "metadata": {},
   "source": [
    "# Pytorch and Fastai\n",
    "Pytorch is a library for deep learning with support for CPU/GPU computations:\n",
    "https://pytorch.org/\n",
    "\n",
    "Pytorch Installation:\n",
    "https://pytorch.org/get-started/locally/\n",
    "\n",
    "\n",
    "Fastai installation:\n",
    "https://docs.fast.ai/#Installing\n",
    "\n",
    "Fastai is a high-level library built on top of Pytorch, it also has support for CPU/GPU.\n",
    "\n",
    "\n",
    "### Pytorch\n",
    "Pytorch has many different APIs. Sequential an functional API and Module, which supports building our own classes.\n",
    "\n",
    "\n"
   ]
  },
  {
   "cell_type": "markdown",
   "id": "c43f29f1",
   "metadata": {},
   "source": [
    "# Creating a neural network from scratch with pythorch and fastai\n",
    "We continue by showing an example on how to train a neural network by building it ourselves. We will use the famous MINST-dataset from computer vision. MNIST contains handwritten digits.\n",
    "\n",
    "\n",
    "* With star we import the whole package."
   ]
  },
  {
   "cell_type": "code",
   "execution_count": 1,
   "id": "785affcb",
   "metadata": {},
   "outputs": [],
   "source": [
    "from fastai.vision.all import *\n"
   ]
  },
  {
   "cell_type": "code",
   "execution_count": 3,
   "id": "59c9ea4b",
   "metadata": {},
   "outputs": [],
   "source": [
    "path = untar_data(URLs.MNIST_SAMPLE)"
   ]
  },
  {
   "cell_type": "code",
   "execution_count": 5,
   "id": "a6b7e773",
   "metadata": {},
   "outputs": [
    {
     "data": {
      "text/plain": [
       "(#3) [Path('C:/Users/Gilberto-BE/.fastai/data/mnist_sample/labels.csv'),Path('C:/Users/Gilberto-BE/.fastai/data/mnist_sample/train'),Path('C:/Users/Gilberto-BE/.fastai/data/mnist_sample/valid')]"
      ]
     },
     "execution_count": 5,
     "metadata": {},
     "output_type": "execute_result"
    }
   ],
   "source": [
    "path.ls()"
   ]
  },
  {
   "cell_type": "markdown",
   "id": "a36a26f5",
   "metadata": {},
   "source": [
    "# Example images with fastai\n",
    "\n",
    "Use Image from python (PIL) library."
   ]
  },
  {
   "cell_type": "code",
   "execution_count": 6,
   "id": "b97e4a90",
   "metadata": {},
   "outputs": [],
   "source": [
    "threes = (path/'train'/'3').ls().sorted()\n",
    "sevens = (path/'train'/'7').ls().sorted()"
   ]
  },
  {
   "cell_type": "code",
   "execution_count": 7,
   "id": "b51c3c91",
   "metadata": {},
   "outputs": [
    {
     "data": {
      "image/png": "[encoded data removed]",
      "text/plain": [
       "<PIL.PngImagePlugin.PngImageFile image mode=L size=28x28 at 0x26B7646A430>"
      ]
     },
     "execution_count": 7,
     "metadata": {},
     "output_type": "execute_result"
    }
   ],
   "source": [
    "im3_path = threes[1]\n",
    "im3 = Image.open(im3_path)\n",
    "im3"
   ]
  },
  {
   "cell_type": "markdown",
   "id": "eb05b18f",
   "metadata": {},
   "source": [
    "# Gradient descent\n",
    "\n",
    "$$w  = w w\\cdot \\nabla \\cdot lr $$"
   ]
  }
 ],
 "metadata": {
  "kernelspec": {
   "display_name": "Python 3 (ipykernel)",
   "language": "python",
   "name": "python3"
  },
  "language_info": {
   "codemirror_mode": {
    "name": "ipython",
    "version": 3
   },
   "file_extension": ".py",
   "mimetype": "text/x-python",
   "name": "python",
   "nbconvert_exporter": "python",
   "pygments_lexer": "ipython3",
   "version": "3.8.10"
  }
 },
 "nbformat": 4,
 "nbformat_minor": 5
}
