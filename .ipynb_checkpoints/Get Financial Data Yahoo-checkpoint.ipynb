{
 "cells": [
  {
   "cell_type": "code",
   "execution_count": 1,
   "metadata": {},
   "outputs": [],
   "source": [
    "import pandas as pd\n",
    "import numpy as np\n",
    "import pandas_datareader as pdr\n",
    "import matplotlib.pyplot as plt"
   ]
  },
  {
   "cell_type": "markdown",
   "metadata": {},
   "source": [
    "## Data Reader\n",
    "Use Data Reader to get stock prices, volumes etc."
   ]
  },
  {
   "cell_type": "code",
   "execution_count": 2,
   "metadata": {},
   "outputs": [
    {
     "name": "stdout",
     "output_type": "stream",
     "text": [
      "An exception occurred for CELG: exception type: No data fetched for symbol CELG using YahooDailyReader\n",
      "An exception occurred for DWDP-W: exception type: No data fetched for symbol DWDP-W using YahooDailyReader\n",
      "An exception occurred for ^SPX: exception type: 'Date'\n"
     ]
    }
   ],
   "source": [
    "ALL_ITEMS = ['AAPL', 'ABBV', 'ABT', 'AMGN', 'AMZN', 'AVGO', 'BRK-B',\n",
    "             'BA', 'BAC', 'BMY', 'C', 'CELG', 'CMCSA', 'CSCO', 'CVX', \n",
    "             'DIS', 'DWDP-W', 'FB', 'GE', 'GILD', 'GOOG', 'HD', 'HON', 'IBM', 'INTC',\n",
    "             'JNJ', 'JPM', 'KO', 'MA', 'MCD', 'MDT', 'MMM', 'MO',\n",
    "             'MRK', 'MSFT', 'NVDA', 'ORCL', 'PEP', 'PFE', 'PG', 'PM',\n",
    "             '^SPX', 'T', 'UNH', 'V', 'VZ', 'WFC', 'WMT', 'XOM']\n",
    "data = {}\n",
    "for k in ALL_ITEMS:\n",
    "    try:\n",
    "        data[k] = pdr.data.DataReader(k, start='1980-01-01', end='2020-07-31', data_source='yahoo')\n",
    "    except Exception as e:\n",
    "        print(f'An exception occurred for {k}: exception type: {e}')"
   ]
  },
  {
   "cell_type": "markdown",
   "metadata": {},
   "source": [
    "## Create a dataframe with adjusted prices\n",
    "Create a dataset with adjusted prices as columns and dates as index."
   ]
  },
  {
   "cell_type": "code",
   "execution_count": 3,
   "metadata": {},
   "outputs": [
    {
     "name": "stdout",
     "output_type": "stream",
     "text": [
      "stock: ['AAPL'] Index(['AAPL'], dtype='object')\n",
      "stock: ['ABBV'] Index(['ABBV'], dtype='object')\n",
      "stock: ['ABT'] Index(['ABT'], dtype='object')\n",
      "stock: ['AMGN'] Index(['AMGN'], dtype='object')\n",
      "stock: ['AMZN'] Index(['AMZN'], dtype='object')\n",
      "stock: ['AVGO'] Index(['AVGO'], dtype='object')\n",
      "stock: ['BRK-B'] Index(['BRK-B'], dtype='object')\n",
      "stock: ['BA'] Index(['BA'], dtype='object')\n",
      "stock: ['BAC'] Index(['BAC'], dtype='object')\n",
      "stock: ['BMY'] Index(['BMY'], dtype='object')\n",
      "stock: ['C'] Index(['C'], dtype='object')\n",
      "stock: ['CMCSA'] Index(['CMCSA'], dtype='object')\n",
      "stock: ['CSCO'] Index(['CSCO'], dtype='object')\n",
      "stock: ['CVX'] Index(['CVX'], dtype='object')\n",
      "stock: ['DIS'] Index(['DIS'], dtype='object')\n",
      "stock: ['FB'] Index(['FB'], dtype='object')\n",
      "stock: ['GE'] Index(['GE'], dtype='object')\n",
      "stock: ['GILD'] Index(['GILD'], dtype='object')\n",
      "stock: ['GOOG'] Index(['GOOG'], dtype='object')\n",
      "stock: ['HD'] Index(['HD'], dtype='object')\n",
      "stock: ['HON'] Index(['HON'], dtype='object')\n",
      "stock: ['IBM'] Index(['IBM'], dtype='object')\n",
      "stock: ['INTC'] Index(['INTC'], dtype='object')\n",
      "stock: ['JNJ'] Index(['JNJ'], dtype='object')\n",
      "stock: ['JPM'] Index(['JPM'], dtype='object')\n",
      "stock: ['KO'] Index(['KO'], dtype='object')\n",
      "stock: ['MA'] Index(['MA'], dtype='object')\n",
      "stock: ['MCD'] Index(['MCD'], dtype='object')\n",
      "stock: ['MDT'] Index(['MDT'], dtype='object')\n",
      "stock: ['MMM'] Index(['MMM'], dtype='object')\n",
      "stock: ['MO'] Index(['MO'], dtype='object')\n",
      "stock: ['MRK'] Index(['MRK'], dtype='object')\n",
      "stock: ['MSFT'] Index(['MSFT'], dtype='object')\n",
      "stock: ['NVDA'] Index(['NVDA'], dtype='object')\n",
      "stock: ['ORCL'] Index(['ORCL'], dtype='object')\n",
      "stock: ['PEP'] Index(['PEP'], dtype='object')\n",
      "stock: ['PFE'] Index(['PFE'], dtype='object')\n",
      "stock: ['PG'] Index(['PG'], dtype='object')\n",
      "stock: ['PM'] Index(['PM'], dtype='object')\n",
      "stock: ['T'] Index(['T'], dtype='object')\n",
      "stock: ['UNH'] Index(['UNH'], dtype='object')\n",
      "stock: ['V'] Index(['V'], dtype='object')\n",
      "stock: ['VZ'] Index(['VZ'], dtype='object')\n",
      "stock: ['WFC'] Index(['WFC'], dtype='object')\n",
      "stock: ['WMT'] Index(['WMT'], dtype='object')\n",
      "stock: ['XOM'] Index(['XOM'], dtype='object')\n"
     ]
    }
   ],
   "source": [
    "data_df = pd.DataFrame()\n",
    "\n",
    "for k, v in data.items():\n",
    "    stock = pd.DataFrame({f'{k}': v['Adj Close']})\n",
    "    print('stock:', [k], stock.columns)\n",
    "    data_df = pd.concat([data_df, stock], axis=1)"
   ]
  },
  {
   "cell_type": "code",
   "execution_count": null,
   "metadata": {},
   "outputs": [],
   "source": [
    "## "
   ]
  },
  {
   "cell_type": "code",
   "execution_count": 5,
   "metadata": {},
   "outputs": [],
   "source": [
    "import os\n",
    "data_df.to_csv(os.path.join('data','stocks_1980_2020.csv'))"
   ]
  },
  {
   "cell_type": "code",
   "execution_count": null,
   "metadata": {},
   "outputs": [],
   "source": []
  }
 ],
 "metadata": {
  "kernelspec": {
   "display_name": "Python 3",
   "language": "python",
   "name": "python3"
  },
  "language_info": {
   "codemirror_mode": {
    "name": "ipython",
    "version": 3
   },
   "file_extension": ".py",
   "mimetype": "text/x-python",
   "name": "python",
   "nbconvert_exporter": "python",
   "pygments_lexer": "ipython3",
   "version": "3.7.7"
  }
 },
 "nbformat": 4,
 "nbformat_minor": 4
}
