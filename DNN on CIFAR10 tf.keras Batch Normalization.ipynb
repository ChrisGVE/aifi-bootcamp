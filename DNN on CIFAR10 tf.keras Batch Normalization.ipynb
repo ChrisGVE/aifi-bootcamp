{
 "cells": [
  {
   "cell_type": "markdown",
   "metadata": {},
   "source": [
    "# DNN on CIFAR10\n",
    "In this exercise you are supposed to do a DNN with dense layers. The task is to train a very deep DNN and make predictions on the CIFAR10 dataset. This is a very well known dataset used as a benchmark in computer vision.\n",
    "\n",
    "* Create a 20 layered NN with 100 neurons\n",
    "* Use He initialization\n",
    "* Use ELU activation function\n",
    "* USe Nadam\n",
    "* Use early stopping"
   ]
  },
  {
   "cell_type": "code",
   "execution_count": 1,
   "metadata": {},
   "outputs": [],
   "source": [
    "import tensorflow as tf\n",
    "from functools import partial\n",
    "tf.random.set_seed(42)"
   ]
  },
  {
   "cell_type": "code",
   "execution_count": 2,
   "metadata": {},
   "outputs": [],
   "source": [
    "(x_train, y_train), (x_test, y_test) = tf.keras.datasets.cifar10.load_data()"
   ]
  },
  {
   "cell_type": "code",
   "execution_count": 3,
   "metadata": {},
   "outputs": [
    {
     "data": {
      "text/plain": [
       "((50000, 32, 32, 3), 255, 0)"
      ]
     },
     "execution_count": 3,
     "metadata": {},
     "output_type": "execute_result"
    }
   ],
   "source": [
    "x_train.shape, x_train[0, :, :].max(), x_train[0, :, :].min()"
   ]
  },
  {
   "cell_type": "code",
   "execution_count": 4,
   "metadata": {},
   "outputs": [],
   "source": [
    "x_train, x_test = x_train/255.0, x_test/255.0"
   ]
  },
  {
   "cell_type": "markdown",
   "metadata": {},
   "source": [
    "# Create model"
   ]
  },
  {
   "cell_type": "code",
   "execution_count": 5,
   "metadata": {},
   "outputs": [],
   "source": [
    "def exponential_decay(lr0, s):\n",
    "    def exponential_decay_fn(epoch):\n",
    "        return lr0 * 0.1 ** (epoch/s)\n",
    "    return exponential_decay_fn"
   ]
  },
  {
   "cell_type": "code",
   "execution_count": 6,
   "metadata": {},
   "outputs": [],
   "source": [
    "def create_dnn(activation='elu', \n",
    "               kernel_initializer='he_normal', \n",
    "               units=100,\n",
    "               n_layers=20, \n",
    "               batch_normalization=False):\n",
    "    \n",
    "    partial_dnn = partial(tf.keras.layers.Dense,\n",
    "                          activation=activation, \n",
    "                          kernel_initializer=kernel_initializer)\n",
    "\n",
    "    model = tf.keras.Sequential()\n",
    "    model.add(tf.keras.layers.Flatten(input_shape=[32, 32, 3]))\n",
    "    \n",
    "    for i in range(n_layers):\n",
    "        model.add(partial_dnn(units))\n",
    "        if batch_normalization:\n",
    "            model.add(tf.keras.layers.BatchNormalization())\n",
    "            \n",
    "    model.add(tf.keras.layers.Dense(10, activation='softmax'))\n",
    "    optimizer = tf.keras.optimizers.Nadam()\n",
    "\n",
    "    model.compile(optimizer=optimizer,\n",
    "                  loss='sparse_categorical_crossentropy',\n",
    "                  metrics=['accuracy'])\n",
    "    \n",
    "    return model\n",
    "    "
   ]
  },
  {
   "cell_type": "code",
   "execution_count": 7,
   "metadata": {},
   "outputs": [],
   "source": [
    "model = create_dnn(batch_normalization=True)"
   ]
  },
  {
   "cell_type": "code",
   "execution_count": 8,
   "metadata": {},
   "outputs": [
    {
     "name": "stdout",
     "output_type": "stream",
     "text": [
      "Model: \"sequential\"\n",
      "_________________________________________________________________\n",
      "Layer (type)                 Output Shape              Param #   \n",
      "=================================================================\n",
      "flatten (Flatten)            (None, 3072)              0         \n",
      "_________________________________________________________________\n",
      "dense (Dense)                (None, 100)               307300    \n",
      "_________________________________________________________________\n",
      "batch_normalization (BatchNo (None, 100)               400       \n",
      "_________________________________________________________________\n",
      "dense_1 (Dense)              (None, 100)               10100     \n",
      "_________________________________________________________________\n",
      "batch_normalization_1 (Batch (None, 100)               400       \n",
      "_________________________________________________________________\n",
      "dense_2 (Dense)              (None, 100)               10100     \n",
      "_________________________________________________________________\n",
      "batch_normalization_2 (Batch (None, 100)               400       \n",
      "_________________________________________________________________\n",
      "dense_3 (Dense)              (None, 100)               10100     \n",
      "_________________________________________________________________\n",
      "batch_normalization_3 (Batch (None, 100)               400       \n",
      "_________________________________________________________________\n",
      "dense_4 (Dense)              (None, 100)               10100     \n",
      "_________________________________________________________________\n",
      "batch_normalization_4 (Batch (None, 100)               400       \n",
      "_________________________________________________________________\n",
      "dense_5 (Dense)              (None, 100)               10100     \n",
      "_________________________________________________________________\n",
      "batch_normalization_5 (Batch (None, 100)               400       \n",
      "_________________________________________________________________\n",
      "dense_6 (Dense)              (None, 100)               10100     \n",
      "_________________________________________________________________\n",
      "batch_normalization_6 (Batch (None, 100)               400       \n",
      "_________________________________________________________________\n",
      "dense_7 (Dense)              (None, 100)               10100     \n",
      "_________________________________________________________________\n",
      "batch_normalization_7 (Batch (None, 100)               400       \n",
      "_________________________________________________________________\n",
      "dense_8 (Dense)              (None, 100)               10100     \n",
      "_________________________________________________________________\n",
      "batch_normalization_8 (Batch (None, 100)               400       \n",
      "_________________________________________________________________\n",
      "dense_9 (Dense)              (None, 100)               10100     \n",
      "_________________________________________________________________\n",
      "batch_normalization_9 (Batch (None, 100)               400       \n",
      "_________________________________________________________________\n",
      "dense_10 (Dense)             (None, 100)               10100     \n",
      "_________________________________________________________________\n",
      "batch_normalization_10 (Batc (None, 100)               400       \n",
      "_________________________________________________________________\n",
      "dense_11 (Dense)             (None, 100)               10100     \n",
      "_________________________________________________________________\n",
      "batch_normalization_11 (Batc (None, 100)               400       \n",
      "_________________________________________________________________\n",
      "dense_12 (Dense)             (None, 100)               10100     \n",
      "_________________________________________________________________\n",
      "batch_normalization_12 (Batc (None, 100)               400       \n",
      "_________________________________________________________________\n",
      "dense_13 (Dense)             (None, 100)               10100     \n",
      "_________________________________________________________________\n",
      "batch_normalization_13 (Batc (None, 100)               400       \n",
      "_________________________________________________________________\n",
      "dense_14 (Dense)             (None, 100)               10100     \n",
      "_________________________________________________________________\n",
      "batch_normalization_14 (Batc (None, 100)               400       \n",
      "_________________________________________________________________\n",
      "dense_15 (Dense)             (None, 100)               10100     \n",
      "_________________________________________________________________\n",
      "batch_normalization_15 (Batc (None, 100)               400       \n",
      "_________________________________________________________________\n",
      "dense_16 (Dense)             (None, 100)               10100     \n",
      "_________________________________________________________________\n",
      "batch_normalization_16 (Batc (None, 100)               400       \n",
      "_________________________________________________________________\n",
      "dense_17 (Dense)             (None, 100)               10100     \n",
      "_________________________________________________________________\n",
      "batch_normalization_17 (Batc (None, 100)               400       \n",
      "_________________________________________________________________\n",
      "dense_18 (Dense)             (None, 100)               10100     \n",
      "_________________________________________________________________\n",
      "batch_normalization_18 (Batc (None, 100)               400       \n",
      "_________________________________________________________________\n",
      "dense_19 (Dense)             (None, 100)               10100     \n",
      "_________________________________________________________________\n",
      "batch_normalization_19 (Batc (None, 100)               400       \n",
      "_________________________________________________________________\n",
      "dense_20 (Dense)             (None, 10)                1010      \n",
      "=================================================================\n",
      "Total params: 508,210\n",
      "Trainable params: 504,210\n",
      "Non-trainable params: 4,000\n",
      "_________________________________________________________________\n"
     ]
    }
   ],
   "source": [
    "model.summary()"
   ]
  },
  {
   "cell_type": "markdown",
   "metadata": {},
   "source": [
    "# Train Model"
   ]
  },
  {
   "cell_type": "code",
   "execution_count": 9,
   "metadata": {},
   "outputs": [
    {
     "name": "stdout",
     "output_type": "stream",
     "text": [
      "Train on 50000 samples, validate on 10000 samples\n",
      "Epoch 1/100\n",
      "50000/50000 [==============================] - 53s 1ms/sample - loss: 2.0168 - accuracy: 0.2534 - val_loss: 1.9877 - val_accuracy: 0.2927\n",
      "Epoch 2/100\n",
      "50000/50000 [==============================] - 43s 861us/sample - loss: 1.8873 - accuracy: 0.3025 - val_loss: 2.0451 - val_accuracy: 0.2890\n",
      "Epoch 3/100\n",
      "50000/50000 [==============================] - 43s 861us/sample - loss: 1.8387 - accuracy: 0.3201 - val_loss: 1.9729 - val_accuracy: 0.3075\n",
      "Epoch 4/100\n",
      "50000/50000 [==============================] - 44s 875us/sample - loss: 1.7875 - accuracy: 0.3403 - val_loss: 1.8860 - val_accuracy: 0.3401\n",
      "Epoch 5/100\n",
      "50000/50000 [==============================] - 43s 867us/sample - loss: 1.7316 - accuracy: 0.3691 - val_loss: 1.8929 - val_accuracy: 0.3367\n",
      "Epoch 6/100\n",
      "50000/50000 [==============================] - 43s 857us/sample - loss: 1.6759 - accuracy: 0.3944 - val_loss: 1.7982 - val_accuracy: 0.3696\n",
      "Epoch 7/100\n",
      "50000/50000 [==============================] - 43s 864us/sample - loss: 1.6382 - accuracy: 0.4091 - val_loss: 1.6305 - val_accuracy: 0.3981\n",
      "Epoch 8/100\n",
      "50000/50000 [==============================] - 43s 864us/sample - loss: 1.6112 - accuracy: 0.4210 - val_loss: 1.6272 - val_accuracy: 0.4170\n",
      "Epoch 9/100\n",
      "50000/50000 [==============================] - 43s 854us/sample - loss: 1.5819 - accuracy: 0.4333 - val_loss: 1.5577 - val_accuracy: 0.4355\n",
      "Epoch 10/100\n",
      "50000/50000 [==============================] - 43s 859us/sample - loss: 1.5615 - accuracy: 0.4391 - val_loss: 1.5260 - val_accuracy: 0.4488\n",
      "Epoch 11/100\n",
      "50000/50000 [==============================] - 43s 858us/sample - loss: 1.5361 - accuracy: 0.4498 - val_loss: 1.5073 - val_accuracy: 0.4631\n",
      "Epoch 12/100\n",
      "50000/50000 [==============================] - 43s 853us/sample - loss: 1.5245 - accuracy: 0.4555 - val_loss: 1.4948 - val_accuracy: 0.4647\n",
      "Epoch 13/100\n",
      "50000/50000 [==============================] - 43s 866us/sample - loss: 1.5104 - accuracy: 0.4614 - val_loss: 1.4911 - val_accuracy: 0.4695\n",
      "Epoch 14/100\n",
      "50000/50000 [==============================] - 43s 855us/sample - loss: 1.4960 - accuracy: 0.4656 - val_loss: 1.4739 - val_accuracy: 0.4742\n",
      "Epoch 15/100\n",
      "50000/50000 [==============================] - 43s 863us/sample - loss: 1.4862 - accuracy: 0.4699 - val_loss: 1.4694 - val_accuracy: 0.4760\n",
      "Epoch 16/100\n",
      "50000/50000 [==============================] - 43s 867us/sample - loss: 1.4760 - accuracy: 0.4726 - val_loss: 1.4696 - val_accuracy: 0.4790\n",
      "Epoch 17/100\n",
      "50000/50000 [==============================] - 43s 858us/sample - loss: 1.4711 - accuracy: 0.4792 - val_loss: 1.4632 - val_accuracy: 0.4803\n",
      "Epoch 18/100\n",
      "50000/50000 [==============================] - 42s 847us/sample - loss: 1.4651 - accuracy: 0.4783 - val_loss: 1.4522 - val_accuracy: 0.4872\n",
      "Epoch 19/100\n",
      "50000/50000 [==============================] - 43s 862us/sample - loss: 1.4604 - accuracy: 0.4804 - val_loss: 1.4510 - val_accuracy: 0.4890\n",
      "Epoch 20/100\n",
      "50000/50000 [==============================] - 43s 853us/sample - loss: 1.4516 - accuracy: 0.4831 - val_loss: 1.4494 - val_accuracy: 0.4851\n",
      "Epoch 21/100\n",
      "50000/50000 [==============================] - 43s 870us/sample - loss: 1.4555 - accuracy: 0.4832 - val_loss: 1.4506 - val_accuracy: 0.4909\n",
      "Epoch 22/100\n",
      "50000/50000 [==============================] - 43s 864us/sample - loss: 1.4521 - accuracy: 0.4849 - val_loss: 1.4391 - val_accuracy: 0.4887\n",
      "Epoch 23/100\n",
      "50000/50000 [==============================] - 43s 852us/sample - loss: 1.4486 - accuracy: 0.4815 - val_loss: 1.4504 - val_accuracy: 0.4878\n",
      "Epoch 24/100\n",
      "50000/50000 [==============================] - 43s 864us/sample - loss: 1.4485 - accuracy: 0.4840 - val_loss: 1.4422 - val_accuracy: 0.4908\n",
      "Epoch 25/100\n",
      "50000/50000 [==============================] - 43s 864us/sample - loss: 1.4480 - accuracy: 0.4852 - val_loss: 1.4473 - val_accuracy: 0.4908\n",
      "Epoch 26/100\n",
      "50000/50000 [==============================] - 42s 844us/sample - loss: 1.4450 - accuracy: 0.4834 - val_loss: 1.4440 - val_accuracy: 0.4913\n",
      "Epoch 27/100\n",
      "50000/50000 [==============================] - 43s 854us/sample - loss: 1.4443 - accuracy: 0.4839 - val_loss: 1.4461 - val_accuracy: 0.4893\n",
      "Epoch 28/100\n",
      "50000/50000 [==============================] - 43s 851us/sample - loss: 1.4436 - accuracy: 0.4858 - val_loss: 1.4462 - val_accuracy: 0.4911\n",
      "Epoch 29/100\n",
      "50000/50000 [==============================] - 42s 844us/sample - loss: 1.4402 - accuracy: 0.4902 - val_loss: 1.4474 - val_accuracy: 0.4915\n",
      "Epoch 30/100\n",
      "50000/50000 [==============================] - 43s 868us/sample - loss: 1.4475 - accuracy: 0.4849 - val_loss: 1.4465 - val_accuracy: 0.4937\n",
      "Epoch 31/100\n",
      "50000/50000 [==============================] - 43s 863us/sample - loss: 1.4443 - accuracy: 0.4866 - val_loss: 1.4464 - val_accuracy: 0.4906\n",
      "Epoch 32/100\n",
      "50000/50000 [==============================] - 43s 857us/sample - loss: 1.4423 - accuracy: 0.4852 - val_loss: 1.4452 - val_accuracy: 0.4931\n"
     ]
    }
   ],
   "source": [
    "exponential_decay_fn = exponential_decay(lr0=0.01, s=10)\n",
    "exp_schedule = tf.keras.callbacks.LearningRateScheduler(exponential_decay_fn)\n",
    "\n",
    "early_stopping = tf.keras.callbacks.EarlyStopping(patience=10)\n",
    "\n",
    "\n",
    "callbacks = [early_stopping,\n",
    "             exp_schedule]\n",
    "\n",
    "history = model.fit(x_train, y_train, \n",
    "                    validation_data=(x_test, y_test), \n",
    "                    epochs=100, batch_size=32, \n",
    "                    callbacks=callbacks)"
   ]
  },
  {
   "cell_type": "code",
   "execution_count": 10,
   "metadata": {},
   "outputs": [],
   "source": [
    "import pandas as pd\n",
    "import matplotlib.pyplot as plt\n"
   ]
  },
  {
   "cell_type": "code",
   "execution_count": 11,
   "metadata": {},
   "outputs": [
    {
     "data": {
      "image/png": "[encoded data removed]",
      "text/plain": [
       "<Figure size 576x360 with 1 Axes>"
      ]
     },
     "metadata": {
      "needs_background": "light"
     },
     "output_type": "display_data"
    }
   ],
   "source": [
    "pd.DataFrame(history.history).plot(figsize=(8, 5), grid=True)\n",
    "plt.gca().set_ylim(0, 1)\n",
    "plt.show();"
   ]
  },
  {
   "cell_type": "code",
   "execution_count": null,
   "metadata": {},
   "outputs": [],
   "source": []
  },
  {
   "cell_type": "code",
   "execution_count": null,
   "metadata": {},
   "outputs": [],
   "source": []
  }
 ],
 "metadata": {
  "kernelspec": {
   "display_name": "Python 3",
   "language": "python",
   "name": "python3"
  },
  "language_info": {
   "codemirror_mode": {
    "name": "ipython",
    "version": 3
   },
   "file_extension": ".py",
   "mimetype": "text/x-python",
   "name": "python",
   "nbconvert_exporter": "python",
   "pygments_lexer": "ipython3",
   "version": "3.7.7"
  }
 },
 "nbformat": 4,
 "nbformat_minor": 4
}
