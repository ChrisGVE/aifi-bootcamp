{
 "cells": [
  {
   "cell_type": "markdown",
   "metadata": {},
   "source": [
    "# Data types and data structures covered in this chapter\n",
    "| Ojbect type  | Meaning   | Used for  |   \n",
    "|---|---|---|\n",
    "| int  | Integer value  |  Natural numbers |   \n",
    "|  float | Floating-point number  | Real numbers   |   \n",
    "|  bool |  Boolean value | true or false  |\n",
    "|  str   |  String object  | Character, word, text |\n",
    "| tuple | Immutable container | Fixed set of objects, record |\n",
    "| list | Mutable container | Changing set of objects |\n",
    "| dict | Mutable container | Key-value store|\n",
    "| set | Mutable container | Collection of unique objects |\n"
   ]
  },
  {
   "cell_type": "markdown",
   "metadata": {},
   "source": [
    "## Integers"
   ]
  },
  {
   "cell_type": "code",
   "execution_count": 1,
   "metadata": {},
   "outputs": [],
   "source": [
    "a = 10\n",
    "\n",
    "print('Type:', type(a))\n",
    "print('Bits in memory:', a.bit_length())\n",
    "\n",
    "b = 100000\n",
    "print('Bits in memory:', b.bit_length())"
   ]
  },
  {
   "cell_type": "code",
   "execution_count": 2,
   "metadata": {},
   "outputs": [
    {
     "name": "stdout",
     "output_type": "stream",
     "text": [
      "10000000000000000000000000000000000000000000000000000000000000000000000000000000000000000000000000000\n",
      "\n",
      "Bits in memory: 333\n"
     ]
    }
   ],
   "source": [
    "googol = 10 ** 100\n",
    "print(googol)\n",
    "print('')\n",
    "print('Bits in memory:', googol.bit_length())"
   ]
  },
  {
   "cell_type": "markdown",
   "metadata": {},
   "source": [
    "## Arithmetic operations"
   ]
  },
  {
   "cell_type": "code",
   "execution_count": 3,
   "metadata": {},
   "outputs": [
    {
     "data": {
      "text/plain": [
       "5"
      ]
     },
     "execution_count": 3,
     "metadata": {},
     "output_type": "execute_result"
    }
   ],
   "source": [
    "1 + 4"
   ]
  },
  {
   "cell_type": "code",
   "execution_count": 4,
   "metadata": {},
   "outputs": [
    {
     "data": {
      "text/plain": [
       "0.25"
      ]
     },
     "execution_count": 4,
     "metadata": {},
     "output_type": "execute_result"
    }
   ],
   "source": [
    "1/4"
   ]
  },
  {
   "cell_type": "markdown",
   "metadata": {},
   "source": [
    "## Floats"
   ]
  },
  {
   "cell_type": "code",
   "execution_count": 5,
   "metadata": {},
   "outputs": [
    {
     "data": {
      "text/plain": [
       "0.4"
      ]
     },
     "execution_count": 5,
     "metadata": {},
     "output_type": "execute_result"
    }
   ],
   "source": [
    "1.6/4"
   ]
  },
  {
   "cell_type": "code",
   "execution_count": 6,
   "metadata": {},
   "outputs": [
    {
     "data": {
      "text/plain": [
       "0.44999999999999996"
      ]
     },
     "execution_count": 6,
     "metadata": {},
     "output_type": "execute_result"
    }
   ],
   "source": [
    "b = 0.35\n",
    "b + 0.1"
   ]
  },
  {
   "cell_type": "code",
   "execution_count": 7,
   "metadata": {},
   "outputs": [
    {
     "data": {
      "text/plain": [
       "(1, 2)"
      ]
     },
     "execution_count": 7,
     "metadata": {},
     "output_type": "execute_result"
    }
   ],
   "source": [
    "c = 0.5\n",
    "c.as_integer_ratio()"
   ]
  },
  {
   "cell_type": "code",
   "execution_count": 8,
   "metadata": {},
   "outputs": [
    {
     "data": {
      "text/plain": [
       "(3152519739159347, 9007199254740992)"
      ]
     },
     "execution_count": 8,
     "metadata": {},
     "output_type": "execute_result"
    }
   ],
   "source": [
    "b.as_integer_ratio()"
   ]
  },
  {
   "cell_type": "markdown",
   "metadata": {},
   "source": [
    "## Module decimal\n",
    "decimal can be used when representation of floating point numbers is of importance. It is used to store arbitrary-precision objects."
   ]
  },
  {
   "cell_type": "code",
   "execution_count": 9,
   "metadata": {},
   "outputs": [],
   "source": [
    "import decimal\n",
    "from decimal import Decimal"
   ]
  },
  {
   "cell_type": "code",
   "execution_count": 10,
   "metadata": {},
   "outputs": [
    {
     "data": {
      "text/plain": [
       "Context(prec=28, rounding=ROUND_HALF_EVEN, Emin=-999999, Emax=999999, capitals=1, clamp=0, flags=[], traps=[InvalidOperation, DivisionByZero, Overflow])"
      ]
     },
     "execution_count": 10,
     "metadata": {},
     "output_type": "execute_result"
    }
   ],
   "source": [
    "decimal.getcontext()"
   ]
  },
  {
   "cell_type": "code",
   "execution_count": 11,
   "metadata": {},
   "outputs": [
    {
     "data": {
      "text/plain": [
       "Decimal('0.09090909090909090909090909091')"
      ]
     },
     "execution_count": 11,
     "metadata": {},
     "output_type": "execute_result"
    }
   ],
   "source": [
    "d = Decimal(1)/Decimal(11)\n",
    "d"
   ]
  },
  {
   "cell_type": "code",
   "execution_count": 12,
   "metadata": {},
   "outputs": [
    {
     "data": {
      "text/plain": [
       "Decimal('0.09091')"
      ]
     },
     "execution_count": 12,
     "metadata": {},
     "output_type": "execute_result"
    }
   ],
   "source": [
    "decimal.getcontext().prec = 4\n",
    "e = Decimal(1)/Decimal(11)\n",
    "e"
   ]
  },
  {
   "cell_type": "markdown",
   "metadata": {},
   "source": [
    "## Booleans\n",
    "Booleans are represented as True or False in python."
   ]
  },
  {
   "cell_type": "code",
   "execution_count": 13,
   "metadata": {},
   "outputs": [
    {
     "data": {
      "text/plain": [
       "True"
      ]
     },
     "execution_count": 13,
     "metadata": {},
     "output_type": "execute_result"
    }
   ],
   "source": [
    "4 > 3"
   ]
  },
  {
   "cell_type": "code",
   "execution_count": 14,
   "metadata": {},
   "outputs": [
    {
     "data": {
      "text/plain": [
       "False"
      ]
     },
     "execution_count": 14,
     "metadata": {},
     "output_type": "execute_result"
    }
   ],
   "source": [
    "4 < 3"
   ]
  },
  {
   "cell_type": "code",
   "execution_count": 15,
   "metadata": {},
   "outputs": [
    {
     "data": {
      "text/plain": [
       "bool"
      ]
     },
     "execution_count": 15,
     "metadata": {},
     "output_type": "execute_result"
    }
   ],
   "source": [
    "type(4 > 3)"
   ]
  },
  {
   "cell_type": "code",
   "execution_count": 16,
   "metadata": {},
   "outputs": [
    {
     "name": "stdout",
     "output_type": "stream",
     "text": [
      "True\n",
      "False\n",
      "False\n"
     ]
    }
   ],
   "source": [
    "print(4 >= 3)\n",
    "print(4 <= 3)\n",
    "print(4 == 3)"
   ]
  },
  {
   "cell_type": "code",
   "execution_count": 17,
   "metadata": {},
   "outputs": [
    {
     "name": "stdout",
     "output_type": "stream",
     "text": [
      "True and True: True\n",
      "\n",
      "True and False: False\n",
      "\n",
      "False and False: False\n",
      "\n",
      "True or False: True\n",
      "\n",
      "True or False: True\n",
      "\n",
      "False or False: False\n",
      "\n",
      "not True: False\n",
      "\n",
      "not False: True\n"
     ]
    }
   ],
   "source": [
    "print('True and True:', True and True)\n",
    "print()\n",
    "print('True and False:', True and False)\n",
    "print()\n",
    "print('False and False:', False and False)\n",
    "print()\n",
    "print('True or False:', True or False)\n",
    "print()\n",
    "print('True or False:', True or False)\n",
    "print()\n",
    "print('False or False:', False or False)\n",
    "print()\n",
    "print('not True:', not True)\n",
    "print()\n",
    "print('not False:', not False)"
   ]
  },
  {
   "cell_type": "markdown",
   "metadata": {},
   "source": [
    "## Booleans for controlling program flow"
   ]
  },
  {
   "cell_type": "code",
   "execution_count": 18,
   "metadata": {},
   "outputs": [
    {
     "name": "stdout",
     "output_type": "stream",
     "text": [
      "Condition true\n"
     ]
    }
   ],
   "source": [
    "if 4 > 3:\n",
    "    print('Condition true')\n",
    "else:\n",
    "    print('Condition false')"
   ]
  },
  {
   "cell_type": "code",
   "execution_count": 19,
   "metadata": {},
   "outputs": [
    {
     "name": "stdout",
     "output_type": "stream",
     "text": [
      "Condition true, i =  0\n",
      "Condition true, i =  1\n",
      "Condition true, i =  2\n",
      "Condition true, i =  3\n"
     ]
    }
   ],
   "source": [
    "i = 0\n",
    "while i < 4:\n",
    "    print('Condition true, i = ', i)\n",
    "    i += 1"
   ]
  },
  {
   "cell_type": "markdown",
   "metadata": {},
   "source": [
    "## Strings\n",
    "### TODO: add more examples of string manipulation (NLP)\n",
    "Strings are inmutable in python"
   ]
  },
  {
   "cell_type": "code",
   "execution_count": 20,
   "metadata": {},
   "outputs": [],
   "source": [
    "t = 'this is a string object'"
   ]
  },
  {
   "cell_type": "code",
   "execution_count": 21,
   "metadata": {},
   "outputs": [
    {
     "data": {
      "text/plain": [
       "'This is a string object'"
      ]
     },
     "execution_count": 21,
     "metadata": {},
     "output_type": "execute_result"
    }
   ],
   "source": [
    "t.capitalize()"
   ]
  },
  {
   "cell_type": "code",
   "execution_count": 22,
   "metadata": {},
   "outputs": [
    {
     "data": {
      "text/plain": [
       "['this', 'is', 'a', 'string', 'object']"
      ]
     },
     "execution_count": 22,
     "metadata": {},
     "output_type": "execute_result"
    }
   ],
   "source": [
    "t.split()"
   ]
  },
  {
   "cell_type": "code",
   "execution_count": 23,
   "metadata": {},
   "outputs": [
    {
     "data": {
      "text/plain": [
       "'this is a string object'"
      ]
     },
     "execution_count": 23,
     "metadata": {},
     "output_type": "execute_result"
    }
   ],
   "source": [
    "t # still not changed"
   ]
  },
  {
   "cell_type": "code",
   "execution_count": 24,
   "metadata": {},
   "outputs": [
    {
     "data": {
      "text/plain": [
       "10"
      ]
     },
     "execution_count": 24,
     "metadata": {},
     "output_type": "execute_result"
    }
   ],
   "source": [
    "t.find('string')"
   ]
  },
  {
   "cell_type": "code",
   "execution_count": null,
   "metadata": {},
   "outputs": [],
   "source": []
  },
  {
   "cell_type": "code",
   "execution_count": 25,
   "metadata": {},
   "outputs": [
    {
     "data": {
      "text/plain": [
       "-1"
      ]
     },
     "execution_count": 25,
     "metadata": {},
     "output_type": "execute_result"
    }
   ],
   "source": [
    "t.find('python') # word does not exist, returns -1"
   ]
  },
  {
   "cell_type": "code",
   "execution_count": 26,
   "metadata": {},
   "outputs": [
    {
     "data": {
      "text/plain": [
       "'this|is|a|string|object'"
      ]
     },
     "execution_count": 26,
     "metadata": {},
     "output_type": "execute_result"
    }
   ],
   "source": [
    "t.replace(' ', '|')"
   ]
  },
  {
   "cell_type": "code",
   "execution_count": 27,
   "metadata": {},
   "outputs": [
    {
     "data": {
      "text/plain": [
       "'www.python.org'"
      ]
     },
     "execution_count": 27,
     "metadata": {},
     "output_type": "execute_result"
    }
   ],
   "source": [
    "'http://www.python.org'.strip('http:/')"
   ]
  },
  {
   "cell_type": "markdown",
   "metadata": {},
   "source": [
    "A list of all methods available for the string object can be found at\n",
    "https://docs.python.org/3/library/stdtypes.html#text-sequence-type-str"
   ]
  },
  {
   "cell_type": "code",
   "execution_count": 28,
   "metadata": {},
   "outputs": [
    {
     "name": "stdout",
     "output_type": "stream",
     "text": [
      "0\n",
      "1\n",
      "2\n",
      "3\n"
     ]
    }
   ],
   "source": [
    "i = 0\n",
    "while i < 4:\n",
    "    print(i)\n",
    "    i += 1"
   ]
  },
  {
   "cell_type": "code",
   "execution_count": 29,
   "metadata": {},
   "outputs": [
    {
     "name": "stdout",
     "output_type": "stream",
     "text": [
      "0|1|2|3|"
     ]
    }
   ],
   "source": [
    "i = 0 \n",
    "while i < 4:\n",
    "    print(i, end='|')\n",
    "    i += 1"
   ]
  },
  {
   "cell_type": "markdown",
   "metadata": {},
   "source": [
    "## String replacement"
   ]
  },
  {
   "cell_type": "code",
   "execution_count": 30,
   "metadata": {},
   "outputs": [
    {
     "data": {
      "text/plain": [
       "'this is an integer 15'"
      ]
     },
     "execution_count": 30,
     "metadata": {},
     "output_type": "execute_result"
    }
   ],
   "source": [
    "'this is an integer %d' % 15"
   ]
  },
  {
   "cell_type": "code",
   "execution_count": 31,
   "metadata": {},
   "outputs": [
    {
     "data": {
      "text/plain": [
       "'this is an integer   15'"
      ]
     },
     "execution_count": 31,
     "metadata": {},
     "output_type": "execute_result"
    }
   ],
   "source": [
    "'this is an integer %4d' % 15"
   ]
  },
  {
   "cell_type": "code",
   "execution_count": 32,
   "metadata": {},
   "outputs": [
    {
     "data": {
      "text/plain": [
       "'this is an integer 0015'"
      ]
     },
     "execution_count": 32,
     "metadata": {},
     "output_type": "execute_result"
    }
   ],
   "source": [
    "'this is an integer %04d' % 15"
   ]
  },
  {
   "cell_type": "code",
   "execution_count": 33,
   "metadata": {},
   "outputs": [
    {
     "data": {
      "text/plain": [
       "'this is a float 15.345600'"
      ]
     },
     "execution_count": 33,
     "metadata": {},
     "output_type": "execute_result"
    }
   ],
   "source": [
    "'this is a float %f' % 15.3456"
   ]
  },
  {
   "cell_type": "code",
   "execution_count": 34,
   "metadata": {},
   "outputs": [
    {
     "data": {
      "text/plain": [
       "'this is a float 15.35'"
      ]
     },
     "execution_count": 34,
     "metadata": {},
     "output_type": "execute_result"
    }
   ],
   "source": [
    "'this is a float %.2f' % 15.3456"
   ]
  },
  {
   "cell_type": "code",
   "execution_count": 35,
   "metadata": {},
   "outputs": [
    {
     "data": {
      "text/plain": [
       "'this is a float 15.345600'"
      ]
     },
     "execution_count": 35,
     "metadata": {},
     "output_type": "execute_result"
    }
   ],
   "source": [
    "'this is a float %8f' % 15.3456"
   ]
  },
  {
   "cell_type": "code",
   "execution_count": 36,
   "metadata": {},
   "outputs": [
    {
     "data": {
      "text/plain": [
       "'this is an integer 15, 100'"
      ]
     },
     "execution_count": 36,
     "metadata": {},
     "output_type": "execute_result"
    }
   ],
   "source": [
    "'this is an integer {}, {}'.format(15, 100)"
   ]
  },
  {
   "cell_type": "code",
   "execution_count": 37,
   "metadata": {},
   "outputs": [
    {
     "data": {
      "text/plain": [
       "'this is an integer 0015'"
      ]
     },
     "execution_count": 37,
     "metadata": {},
     "output_type": "execute_result"
    }
   ],
   "source": [
    "'this is an integer {:04}'.format(15)"
   ]
  },
  {
   "cell_type": "code",
   "execution_count": 38,
   "metadata": {},
   "outputs": [
    {
     "name": "stdout",
     "output_type": "stream",
     "text": [
      "the number is 0\n",
      "the number is 1\n",
      "the number is 2\n",
      "the number is 3\n"
     ]
    }
   ],
   "source": [
    "i = 0\n",
    "while i < 4:\n",
    "    print('the number is %d' % i)\n",
    "    i += 1"
   ]
  },
  {
   "cell_type": "code",
   "execution_count": 39,
   "metadata": {},
   "outputs": [
    {
     "name": "stdout",
     "output_type": "stream",
     "text": [
      "the number is: 0 and i times 2 equals: 0\n",
      "the number is: 1 and i times 2 equals: 2\n",
      "the number is: 2 and i times 2 equals: 4\n",
      "the number is: 3 and i times 2 equals: 6\n"
     ]
    }
   ],
   "source": [
    "i = 0\n",
    "while i < 4:\n",
    "    print('the number is: {} and i times 2 equals: {}'.format(i, i * 2))\n",
    "    i += 1"
   ]
  },
  {
   "cell_type": "code",
   "execution_count": null,
   "metadata": {},
   "outputs": [],
   "source": []
  },
  {
   "cell_type": "markdown",
   "metadata": {},
   "source": [
    "## Regular expressions\n",
    "The module re provides with methods for searching and matching of string patterns"
   ]
  },
  {
   "cell_type": "code",
   "execution_count": 40,
   "metadata": {},
   "outputs": [],
   "source": [
    "import re"
   ]
  },
  {
   "cell_type": "code",
   "execution_count": 41,
   "metadata": {},
   "outputs": [],
   "source": [
    "series = \"\"\"\n",
    "'01/18/2014 13:00:00' 100, '1st';\n",
    "'01/18/2014 13:30:00' 110, '2nd';\n",
    "'01/18/2014 14:00:00' 100, '3rd';\n",
    "\"\"\""
   ]
  },
  {
   "cell_type": "code",
   "execution_count": 42,
   "metadata": {},
   "outputs": [],
   "source": [
    "dt = re.compile(\"'[0-9/:\\s]+'\") # datetime"
   ]
  },
  {
   "cell_type": "code",
   "execution_count": 43,
   "metadata": {},
   "outputs": [
    {
     "data": {
      "text/plain": [
       "[\"'01/18/2014 13:00:00'\", \"'01/18/2014 13:30:00'\", \"'01/18/2014 14:00:00'\"]"
      ]
     },
     "execution_count": 43,
     "metadata": {},
     "output_type": "execute_result"
    }
   ],
   "source": [
    "result = dt.findall(series)\n",
    "result"
   ]
  },
  {
   "cell_type": "code",
   "execution_count": 44,
   "metadata": {},
   "outputs": [
    {
     "name": "stdout",
     "output_type": "stream",
     "text": [
      "2014-01-18 13:00:00\n"
     ]
    }
   ],
   "source": [
    "from datetime import datetime\n",
    "pydt = datetime.strptime(result[0].replace(\"'\", \"\"), '%m/%d/%Y %H:%M:%S')\n",
    "print(pydt)"
   ]
  },
  {
   "cell_type": "markdown",
   "metadata": {},
   "source": [
    "# Data Structures\n",
    "The standard data structures in python are:\n",
    "* tuple: immutable collection of arbitrary objects\n",
    "* list: mutable collection of arbitrary objects\n",
    "* dict: key-value store object\n",
    "* set: unordered collection object for other unique objects"
   ]
  },
  {
   "cell_type": "markdown",
   "metadata": {},
   "source": [
    "## Tuples"
   ]
  },
  {
   "cell_type": "code",
   "execution_count": 45,
   "metadata": {},
   "outputs": [
    {
     "name": "stdout",
     "output_type": "stream",
     "text": [
      "(1, 2.5, 'data')\n",
      "<class 'tuple'>\n"
     ]
    }
   ],
   "source": [
    "t = (1, 2.5, 'data')\n",
    "print(t)\n",
    "print(type(t))"
   ]
  },
  {
   "cell_type": "code",
   "execution_count": 46,
   "metadata": {},
   "outputs": [
    {
     "name": "stdout",
     "output_type": "stream",
     "text": [
      "(1, 2.5, 'data')\n"
     ]
    }
   ],
   "source": [
    "t = 1, 2.5, 'data'\n",
    "print(t)"
   ]
  },
  {
   "cell_type": "code",
   "execution_count": 47,
   "metadata": {},
   "outputs": [
    {
     "name": "stdout",
     "output_type": "stream",
     "text": [
      "tuple object does not support item assignment\n"
     ]
    }
   ],
   "source": [
    "try:\n",
    "    t[0] = 100\n",
    "except TypeError:\n",
    "    print('tuple object does not support item assignment')"
   ]
  },
  {
   "cell_type": "code",
   "execution_count": 48,
   "metadata": {},
   "outputs": [
    {
     "data": {
      "text/plain": [
       "1"
      ]
     },
     "execution_count": 48,
     "metadata": {},
     "output_type": "execute_result"
    }
   ],
   "source": [
    "t[0]"
   ]
  },
  {
   "cell_type": "code",
   "execution_count": 49,
   "metadata": {},
   "outputs": [
    {
     "data": {
      "text/plain": [
       "'data'"
      ]
     },
     "execution_count": 49,
     "metadata": {},
     "output_type": "execute_result"
    }
   ],
   "source": [
    "t[2]"
   ]
  },
  {
   "cell_type": "code",
   "execution_count": 50,
   "metadata": {},
   "outputs": [
    {
     "data": {
      "text/plain": [
       "1"
      ]
     },
     "execution_count": 50,
     "metadata": {},
     "output_type": "execute_result"
    }
   ],
   "source": [
    "t.count('data')"
   ]
  },
  {
   "cell_type": "code",
   "execution_count": 51,
   "metadata": {},
   "outputs": [
    {
     "data": {
      "text/plain": [
       "0"
      ]
     },
     "execution_count": 51,
     "metadata": {},
     "output_type": "execute_result"
    }
   ],
   "source": [
    "t.index(1)"
   ]
  },
  {
   "cell_type": "markdown",
   "metadata": {},
   "source": [
    "## List\n",
    "List are instantiated either with [ ] or with its constructor $\\text{list()}$"
   ]
  },
  {
   "cell_type": "code",
   "execution_count": 52,
   "metadata": {},
   "outputs": [
    {
     "data": {
      "text/plain": [
       "'data'"
      ]
     },
     "execution_count": 52,
     "metadata": {},
     "output_type": "execute_result"
    }
   ],
   "source": [
    "mylist = [1, 2.5, 'data']\n",
    "mylist[2]"
   ]
  },
  {
   "cell_type": "code",
   "execution_count": 53,
   "metadata": {},
   "outputs": [
    {
     "data": {
      "text/plain": [
       "[1, 2.5, 'data', [4, 3]]"
      ]
     },
     "execution_count": 53,
     "metadata": {},
     "output_type": "execute_result"
    }
   ],
   "source": [
    "mylist.append([4, 3])\n",
    "mylist"
   ]
  },
  {
   "cell_type": "code",
   "execution_count": 54,
   "metadata": {},
   "outputs": [
    {
     "data": {
      "text/plain": [
       "[1, 2.5, 'data', [4, 3], 1.0, 1.5, 2.8]"
      ]
     },
     "execution_count": 54,
     "metadata": {},
     "output_type": "execute_result"
    }
   ],
   "source": [
    "mylist.extend([1.0, 1.5, 2.8])\n",
    "mylist"
   ]
  },
  {
   "cell_type": "code",
   "execution_count": 55,
   "metadata": {},
   "outputs": [
    {
     "data": {
      "text/plain": [
       "[1, 'insert', 2.5, 'data', [4, 3], 1.0, 1.5, 2.8]"
      ]
     },
     "execution_count": 55,
     "metadata": {},
     "output_type": "execute_result"
    }
   ],
   "source": [
    "mylist.insert(1, 'insert')\n",
    "mylist"
   ]
  },
  {
   "cell_type": "code",
   "execution_count": 56,
   "metadata": {},
   "outputs": [
    {
     "data": {
      "text/plain": [
       "[1, 'insert', 2.5, [4, 3], 1.0, 1.5, 2.8]"
      ]
     },
     "execution_count": 56,
     "metadata": {},
     "output_type": "execute_result"
    }
   ],
   "source": [
    "mylist.remove('data')\n",
    "mylist"
   ]
  },
  {
   "cell_type": "code",
   "execution_count": 57,
   "metadata": {},
   "outputs": [
    {
     "name": "stdout",
     "output_type": "stream",
     "text": [
      "mylist: [1, 'insert', 2.5, 1.0, 1.5, 2.8] ; pop element: [4, 3]\n"
     ]
    }
   ],
   "source": [
    "p = mylist.pop(3)\n",
    "print('mylist:', mylist, ';', 'pop element:', p)"
   ]
  },
  {
   "cell_type": "code",
   "execution_count": 58,
   "metadata": {},
   "outputs": [],
   "source": [
    "mylist.extend([4,5,6])"
   ]
  },
  {
   "cell_type": "code",
   "execution_count": 59,
   "metadata": {},
   "outputs": [
    {
     "data": {
      "text/plain": [
       "[1, 'insert', 2.5, 1.0, 1.5, 2.8, 4, 5, 6]"
      ]
     },
     "execution_count": 59,
     "metadata": {},
     "output_type": "execute_result"
    }
   ],
   "source": [
    "mylist"
   ]
  },
  {
   "cell_type": "markdown",
   "metadata": {},
   "source": [
    "## Slicing"
   ]
  },
  {
   "cell_type": "code",
   "execution_count": 60,
   "metadata": {},
   "outputs": [
    {
     "data": {
      "text/plain": [
       "[2.5, 1.0, 1.5]"
      ]
     },
     "execution_count": 60,
     "metadata": {},
     "output_type": "execute_result"
    }
   ],
   "source": [
    "mylist[2:5]"
   ]
  },
  {
   "cell_type": "markdown",
   "metadata": {},
   "source": [
    "The list methods can be found in the python documentation: https://docs.python.org/3/tutorial/datastructures.html"
   ]
  },
  {
   "cell_type": "markdown",
   "metadata": {},
   "source": [
    "## Control structures"
   ]
  },
  {
   "cell_type": "code",
   "execution_count": 61,
   "metadata": {},
   "outputs": [
    {
     "name": "stdout",
     "output_type": "stream",
     "text": [
      "Loop over list elements:\n",
      "6.25\n",
      "1.0\n",
      "2.25\n",
      "\n",
      "Test for loop with range function and indexing:\n",
      "6.25\n",
      "1.0\n",
      "2.25\n"
     ]
    }
   ],
   "source": [
    "print('Loop over list elements:')\n",
    "for element in mylist[2:5]:\n",
    "    print(element ** 2)\n",
    "\n",
    "print() \n",
    "print('Test for loop with range function and indexing:')\n",
    "for i in range(2, 5):\n",
    "    print(mylist[i] ** 2)"
   ]
  },
  {
   "cell_type": "markdown",
   "metadata": {},
   "source": [
    "## Using if, else and elif"
   ]
  },
  {
   "cell_type": "code",
   "execution_count": 62,
   "metadata": {},
   "outputs": [
    {
     "name": "stdout",
     "output_type": "stream",
     "text": [
      "1 is odd\n",
      "2 is even\n",
      "3 is multiple of 3\n",
      "4 is even\n",
      "5 is odd\n",
      "6 is even\n",
      "7 is odd\n",
      "8 is even\n",
      "9 is multiple of 3\n"
     ]
    }
   ],
   "source": [
    "for i in range(1, 10):\n",
    "    if i % 2 == 0:\n",
    "        print('{} is even'.format(i))\n",
    "    elif i % 3 == 0:\n",
    "        print('{} is multiple of 3'.format(i))\n",
    "    else:\n",
    "        print('{} is odd'.format(i))"
   ]
  },
  {
   "cell_type": "markdown",
   "metadata": {},
   "source": [
    "## While loop"
   ]
  },
  {
   "cell_type": "code",
   "execution_count": 63,
   "metadata": {},
   "outputs": [
    {
     "name": "stdout",
     "output_type": "stream",
     "text": [
      "100\n"
     ]
    }
   ],
   "source": [
    "total = 0\n",
    "while total < 100:\n",
    "    total += 1\n",
    "print(total)\n",
    "    "
   ]
  },
  {
   "cell_type": "markdown",
   "metadata": {},
   "source": [
    "## List comprehensions"
   ]
  },
  {
   "cell_type": "code",
   "execution_count": 64,
   "metadata": {},
   "outputs": [
    {
     "data": {
      "text/plain": [
       "[0, 1, 4, 9, 16]"
      ]
     },
     "execution_count": 64,
     "metadata": {},
     "output_type": "execute_result"
    }
   ],
   "source": [
    "m = [i ** 2 for i in range(5)]\n",
    "m"
   ]
  },
  {
   "cell_type": "code",
   "execution_count": 65,
   "metadata": {},
   "outputs": [
    {
     "data": {
      "text/plain": [
       "[0, 1, 4, 9, 16]"
      ]
     },
     "execution_count": 65,
     "metadata": {},
     "output_type": "execute_result"
    }
   ],
   "source": [
    "mylist = []\n",
    "for i in range(5):\n",
    "    mylist.append(i ** 2)\n",
    "mylist"
   ]
  },
  {
   "cell_type": "markdown",
   "metadata": {},
   "source": [
    "# Functional programming\n",
    "Among some of the functions used in functional programming we find the following functions very useful \n",
    "\n",
    "* $\\text{filter()}$\n",
    "* $\\text{map()}$\n",
    "* $\\text{reduce()}$\n",
    "\n",
    "In functional programming we process a whole set of inputs by calling functions on them."
   ]
  },
  {
   "cell_type": "code",
   "execution_count": 66,
   "metadata": {},
   "outputs": [
    {
     "data": {
      "text/plain": [
       "4"
      ]
     },
     "execution_count": 66,
     "metadata": {},
     "output_type": "execute_result"
    }
   ],
   "source": [
    "def square(x):\n",
    "    return x ** 2\n",
    "\n",
    "square(2)"
   ]
  },
  {
   "cell_type": "code",
   "execution_count": 67,
   "metadata": {},
   "outputs": [
    {
     "data": {
      "text/plain": [
       "False"
      ]
     },
     "execution_count": 67,
     "metadata": {},
     "output_type": "execute_result"
    }
   ],
   "source": [
    "def even(x):\n",
    "    return x % 2 == 0\n",
    "\n",
    "even(3)"
   ]
  },
  {
   "cell_type": "markdown",
   "metadata": {},
   "source": [
    "The list constructor is necessary otherwise operation returns object representation due to the use of range"
   ]
  },
  {
   "cell_type": "code",
   "execution_count": 68,
   "metadata": {},
   "outputs": [
    {
     "data": {
      "text/plain": [
       "[True, False, True, False, True, False, True, False, True, False]"
      ]
     },
     "execution_count": 68,
     "metadata": {},
     "output_type": "execute_result"
    }
   ],
   "source": [
    "list(map(even, range(10)))"
   ]
  },
  {
   "cell_type": "markdown",
   "metadata": {},
   "source": [
    "## Using anonymous functions (lambdas)"
   ]
  },
  {
   "cell_type": "code",
   "execution_count": 69,
   "metadata": {},
   "outputs": [
    {
     "data": {
      "text/plain": [
       "[0, 1, 4, 9, 16, 25, 36, 49, 64, 81]"
      ]
     },
     "execution_count": 69,
     "metadata": {},
     "output_type": "execute_result"
    }
   ],
   "source": [
    "list(map(square, range(10)))"
   ]
  },
  {
   "cell_type": "code",
   "execution_count": 70,
   "metadata": {},
   "outputs": [
    {
     "data": {
      "text/plain": [
       "[0, 1, 4, 9, 16, 25, 36, 49, 64, 81]"
      ]
     },
     "execution_count": 70,
     "metadata": {},
     "output_type": "execute_result"
    }
   ],
   "source": [
    "list(map(lambda x: x ** 2, range(10)))"
   ]
  },
  {
   "cell_type": "code",
   "execution_count": 71,
   "metadata": {},
   "outputs": [
    {
     "data": {
      "text/plain": [
       "[0, 2, 4, 6, 8, 10, 12, 14]"
      ]
     },
     "execution_count": 71,
     "metadata": {},
     "output_type": "execute_result"
    }
   ],
   "source": [
    "list(filter(even, range(15)))"
   ]
  },
  {
   "cell_type": "code",
   "execution_count": 72,
   "metadata": {},
   "outputs": [],
   "source": [
    "square_lambda = lambda x: x ** 2"
   ]
  },
  {
   "cell_type": "code",
   "execution_count": 73,
   "metadata": {},
   "outputs": [
    {
     "data": {
      "text/plain": [
       "81"
      ]
     },
     "execution_count": 73,
     "metadata": {},
     "output_type": "execute_result"
    }
   ],
   "source": [
    "square_lambda(9)"
   ]
  },
  {
   "cell_type": "markdown",
   "metadata": {},
   "source": [
    "# Python Dictionaries and Dict comprenhensions\n",
    "Key-value store object, with onordered objects. In general dicts are not sortable as lists."
   ]
  },
  {
   "cell_type": "code",
   "execution_count": 3,
   "metadata": {},
   "outputs": [],
   "source": [
    "import pandas as pd\n",
    "import os"
   ]
  },
  {
   "cell_type": "code",
   "execution_count": 5,
   "metadata": {},
   "outputs": [
    {
     "data": {
      "text/html": [
       "<div>\n",
       "<style scoped>\n",
       "    .dataframe tbody tr th:only-of-type {\n",
       "        vertical-align: middle;\n",
       "    }\n",
       "\n",
       "    .dataframe tbody tr th {\n",
       "        vertical-align: top;\n",
       "    }\n",
       "\n",
       "    .dataframe thead th {\n",
       "        text-align: right;\n",
       "    }\n",
       "</style>\n",
       "<table border=\"1\" class=\"dataframe\">\n",
       "  <thead>\n",
       "    <tr style=\"text-align: right;\">\n",
       "      <th></th>\n",
       "      <th>AAPL</th>\n",
       "      <th>ABBV</th>\n",
       "      <th>ABT</th>\n",
       "      <th>AMGN</th>\n",
       "      <th>AMZN</th>\n",
       "      <th>AVGO</th>\n",
       "      <th>BA</th>\n",
       "      <th>BAC</th>\n",
       "      <th>BMY</th>\n",
       "      <th>C</th>\n",
       "      <th>...</th>\n",
       "      <th>PFE</th>\n",
       "      <th>PG</th>\n",
       "      <th>PM</th>\n",
       "      <th>T</th>\n",
       "      <th>UNH</th>\n",
       "      <th>V</th>\n",
       "      <th>VZ</th>\n",
       "      <th>WFC</th>\n",
       "      <th>WMT</th>\n",
       "      <th>XOM</th>\n",
       "    </tr>\n",
       "    <tr>\n",
       "      <th>date</th>\n",
       "      <th></th>\n",
       "      <th></th>\n",
       "      <th></th>\n",
       "      <th></th>\n",
       "      <th></th>\n",
       "      <th></th>\n",
       "      <th></th>\n",
       "      <th></th>\n",
       "      <th></th>\n",
       "      <th></th>\n",
       "      <th></th>\n",
       "      <th></th>\n",
       "      <th></th>\n",
       "      <th></th>\n",
       "      <th></th>\n",
       "      <th></th>\n",
       "      <th></th>\n",
       "      <th></th>\n",
       "      <th></th>\n",
       "      <th></th>\n",
       "      <th></th>\n",
       "    </tr>\n",
       "  </thead>\n",
       "  <tbody>\n",
       "    <tr>\n",
       "      <th>2010-01-04</th>\n",
       "      <td>27.294495</td>\n",
       "      <td>NaN</td>\n",
       "      <td>21.129273</td>\n",
       "      <td>49.792737</td>\n",
       "      <td>133.90</td>\n",
       "      <td>16.673423</td>\n",
       "      <td>45.640616</td>\n",
       "      <td>14.639460</td>\n",
       "      <td>19.648366</td>\n",
       "      <td>32.843185</td>\n",
       "      <td>...</td>\n",
       "      <td>13.934719</td>\n",
       "      <td>47.114847</td>\n",
       "      <td>34.709530</td>\n",
       "      <td>18.323770</td>\n",
       "      <td>27.878733</td>\n",
       "      <td>20.694802</td>\n",
       "      <td>20.828887</td>\n",
       "      <td>22.385830</td>\n",
       "      <td>43.935552</td>\n",
       "      <td>53.998112</td>\n",
       "    </tr>\n",
       "    <tr>\n",
       "      <th>2010-01-05</th>\n",
       "      <td>27.341684</td>\n",
       "      <td>NaN</td>\n",
       "      <td>20.958563</td>\n",
       "      <td>49.365427</td>\n",
       "      <td>134.69</td>\n",
       "      <td>16.797192</td>\n",
       "      <td>47.135432</td>\n",
       "      <td>15.115313</td>\n",
       "      <td>19.341720</td>\n",
       "      <td>34.098954</td>\n",
       "      <td>...</td>\n",
       "      <td>13.735967</td>\n",
       "      <td>47.130264</td>\n",
       "      <td>34.407096</td>\n",
       "      <td>18.234010</td>\n",
       "      <td>27.834524</td>\n",
       "      <td>20.457660</td>\n",
       "      <td>20.566022</td>\n",
       "      <td>23.000375</td>\n",
       "      <td>43.498060</td>\n",
       "      <td>54.208950</td>\n",
       "    </tr>\n",
       "    <tr>\n",
       "      <th>2010-01-06</th>\n",
       "      <td>26.906778</td>\n",
       "      <td>NaN</td>\n",
       "      <td>21.074956</td>\n",
       "      <td>48.994453</td>\n",
       "      <td>132.25</td>\n",
       "      <td>16.929801</td>\n",
       "      <td>48.565255</td>\n",
       "      <td>15.292591</td>\n",
       "      <td>19.334054</td>\n",
       "      <td>35.161528</td>\n",
       "      <td>...</td>\n",
       "      <td>13.691800</td>\n",
       "      <td>46.906716</td>\n",
       "      <td>34.407096</td>\n",
       "      <td>17.971143</td>\n",
       "      <td>28.108625</td>\n",
       "      <td>20.182950</td>\n",
       "      <td>20.274994</td>\n",
       "      <td>23.033151</td>\n",
       "      <td>43.400840</td>\n",
       "      <td>54.677481</td>\n",
       "    </tr>\n",
       "    <tr>\n",
       "      <th>2010-01-07</th>\n",
       "      <td>26.857038</td>\n",
       "      <td>NaN</td>\n",
       "      <td>21.249546</td>\n",
       "      <td>48.545833</td>\n",
       "      <td>130.00</td>\n",
       "      <td>16.823714</td>\n",
       "      <td>50.531263</td>\n",
       "      <td>15.796435</td>\n",
       "      <td>19.349386</td>\n",
       "      <td>35.258126</td>\n",
       "      <td>...</td>\n",
       "      <td>13.640272</td>\n",
       "      <td>46.652332</td>\n",
       "      <td>34.836130</td>\n",
       "      <td>17.769366</td>\n",
       "      <td>29.187345</td>\n",
       "      <td>20.370786</td>\n",
       "      <td>20.154309</td>\n",
       "      <td>23.868932</td>\n",
       "      <td>43.425145</td>\n",
       "      <td>54.505686</td>\n",
       "    </tr>\n",
       "    <tr>\n",
       "      <th>2010-01-08</th>\n",
       "      <td>27.035592</td>\n",
       "      <td>NaN</td>\n",
       "      <td>21.358180</td>\n",
       "      <td>48.977198</td>\n",
       "      <td>133.52</td>\n",
       "      <td>16.947483</td>\n",
       "      <td>50.043823</td>\n",
       "      <td>15.656478</td>\n",
       "      <td>19.027407</td>\n",
       "      <td>34.678540</td>\n",
       "      <td>...</td>\n",
       "      <td>13.750689</td>\n",
       "      <td>46.590664</td>\n",
       "      <td>34.646230</td>\n",
       "      <td>17.639188</td>\n",
       "      <td>28.913244</td>\n",
       "      <td>20.427137</td>\n",
       "      <td>20.167013</td>\n",
       "      <td>23.647696</td>\n",
       "      <td>43.206399</td>\n",
       "      <td>54.287039</td>\n",
       "    </tr>\n",
       "  </tbody>\n",
       "</table>\n",
       "<p>5 rows × 49 columns</p>\n",
       "</div>"
      ],
      "text/plain": [
       "                 AAPL  ABBV        ABT       AMGN    AMZN       AVGO  \\\n",
       "date                                                                   \n",
       "2010-01-04  27.294495   NaN  21.129273  49.792737  133.90  16.673423   \n",
       "2010-01-05  27.341684   NaN  20.958563  49.365427  134.69  16.797192   \n",
       "2010-01-06  26.906778   NaN  21.074956  48.994453  132.25  16.929801   \n",
       "2010-01-07  26.857038   NaN  21.249546  48.545833  130.00  16.823714   \n",
       "2010-01-08  27.035592   NaN  21.358180  48.977198  133.52  16.947483   \n",
       "\n",
       "                   BA        BAC        BMY          C  ...        PFE  \\\n",
       "date                                                    ...              \n",
       "2010-01-04  45.640616  14.639460  19.648366  32.843185  ...  13.934719   \n",
       "2010-01-05  47.135432  15.115313  19.341720  34.098954  ...  13.735967   \n",
       "2010-01-06  48.565255  15.292591  19.334054  35.161528  ...  13.691800   \n",
       "2010-01-07  50.531263  15.796435  19.349386  35.258126  ...  13.640272   \n",
       "2010-01-08  50.043823  15.656478  19.027407  34.678540  ...  13.750689   \n",
       "\n",
       "                   PG         PM          T        UNH          V         VZ  \\\n",
       "date                                                                           \n",
       "2010-01-04  47.114847  34.709530  18.323770  27.878733  20.694802  20.828887   \n",
       "2010-01-05  47.130264  34.407096  18.234010  27.834524  20.457660  20.566022   \n",
       "2010-01-06  46.906716  34.407096  17.971143  28.108625  20.182950  20.274994   \n",
       "2010-01-07  46.652332  34.836130  17.769366  29.187345  20.370786  20.154309   \n",
       "2010-01-08  46.590664  34.646230  17.639188  28.913244  20.427137  20.167013   \n",
       "\n",
       "                  WFC        WMT        XOM  \n",
       "date                                         \n",
       "2010-01-04  22.385830  43.935552  53.998112  \n",
       "2010-01-05  23.000375  43.498060  54.208950  \n",
       "2010-01-06  23.033151  43.400840  54.677481  \n",
       "2010-01-07  23.868932  43.425145  54.505686  \n",
       "2010-01-08  23.647696  43.206399  54.287039  \n",
       "\n",
       "[5 rows x 49 columns]"
      ]
     },
     "execution_count": 5,
     "metadata": {},
     "output_type": "execute_result"
    }
   ],
   "source": [
    "data = pd.read_csv(os.path.join('data', 'closing_prices.csv'))\n",
    "data['date'] = pd.to_datetime(data['date'])\n",
    "data.set_index('date', inplace=True)\n",
    "data.head()"
   ]
  },
  {
   "cell_type": "markdown",
   "metadata": {},
   "source": [
    "# For each stock compute statistics and save results in dict"
   ]
  },
  {
   "cell_type": "code",
   "execution_count": 14,
   "metadata": {},
   "outputs": [
    {
     "name": "stdout",
     "output_type": "stream",
     "text": [
      "count    2055.000000\n",
      "mean       84.982961\n",
      "std        38.253581\n",
      "min        24.493751\n",
      "25%        52.791551\n",
      "50%        78.601326\n",
      "75%       109.909192\n",
      "max       178.970000\n",
      "Name: AAPL, dtype: float64\n",
      "\n",
      "{'AAPL': count    2055.000000\n",
      "mean       84.982961\n",
      "std        38.253581\n",
      "min        24.493751\n",
      "25%        52.791551\n",
      "50%        78.601326\n",
      "75%       109.909192\n",
      "max       178.970000\n",
      "Name: AAPL, dtype: float64, 'ABBV': count    1301.000000\n",
      "mean       56.482115\n",
      "std        16.870189\n",
      "min        27.995535\n",
      "25%        45.470979\n",
      "50%        55.391199\n",
      "75%        61.493845\n",
      "max       123.210000\n",
      "Name: ABBV, dtype: float64, 'ABT': count    2055.000000\n",
      "mean       34.044908\n",
      "std        10.551102\n",
      "min        18.072216\n",
      "25%        23.234669\n",
      "50%        34.903733\n",
      "75%        41.714052\n",
      "max        63.420000\n",
      "Name: ABT, dtype: float64, 'AMGN': count    2055.000000\n",
      "mean      106.663043\n",
      "std        46.264102\n",
      "min        41.643991\n",
      "25%        58.166339\n",
      "50%       104.854704\n",
      "75%       149.207225\n",
      "max       196.554745\n",
      "Name: AMGN, dtype: float64, 'AMZN': count    2055.000000\n",
      "mean      436.142146\n",
      "std       305.361296\n",
      "min       108.610000\n",
      "25%       210.855000\n",
      "50%       312.060000\n",
      "75%       626.375000\n",
      "max      1521.950000\n",
      "Name: AMZN, dtype: float64, 'AVGO': count    2055.000000\n",
      "mean       89.232787\n",
      "std        75.028152\n",
      "min        14.852254\n",
      "25%        30.120151\n",
      "50%        52.360443\n",
      "75%       137.023896\n",
      "max       280.751271\n",
      "Name: AVGO, dtype: float64, 'BA': count    2055.000000\n",
      "mean      111.618641\n",
      "std        61.085355\n",
      "min        45.640616\n",
      "25%        62.085190\n",
      "50%       111.909444\n",
      "75%       131.408124\n",
      "max       364.640000\n",
      "Name: BA, dtype: float64, 'BAC': count    2055.000000\n",
      "mean       14.681973\n",
      "std         5.531560\n",
      "min         4.686492\n",
      "25%        11.512589\n",
      "50%        14.353749\n",
      "75%        16.264721\n",
      "max        32.376582\n",
      "Name: BAC, dtype: float64, 'BMY': count    2055.000000\n",
      "mean       42.499050\n",
      "std        16.214154\n",
      "min        17.408576\n",
      "25%        27.314062\n",
      "50%        45.170160\n",
      "75%        56.772496\n",
      "max        73.741123\n",
      "Name: BMY, dtype: float64, 'C': count    2055.000000\n",
      "mean       46.050733\n",
      "std        11.694399\n",
      "min        22.335090\n",
      "25%        38.445782\n",
      "50%        46.125691\n",
      "75%        51.460622\n",
      "max        79.748663\n",
      "Name: C, dtype: float64, 'CELG': count    2055.000000\n",
      "mean       74.997386\n",
      "std        37.922913\n",
      "min        24.510000\n",
      "25%        32.912500\n",
      "50%        77.755000\n",
      "75%       110.930000\n",
      "max       146.520000\n",
      "Name: CELG, dtype: float64, 'CMCSA': count    2055.000000\n",
      "mean       22.279004\n",
      "std        10.158833\n",
      "min         6.591335\n",
      "25%        11.654622\n",
      "50%        23.678984\n",
      "75%        29.665809\n",
      "max        42.990000\n",
      "Name: CMCSA, dtype: float64, 'CSCO': count    2055.000000\n",
      "mean       22.304846\n",
      "std         6.571227\n",
      "min        11.344380\n",
      "25%        17.080568\n",
      "50%        21.167915\n",
      "75%        26.373097\n",
      "max        45.360000\n",
      "Name: CSCO, dtype: float64, 'CVX': count    2055.000000\n",
      "mean       89.836500\n",
      "std        16.547123\n",
      "min        50.549892\n",
      "25%        80.117989\n",
      "50%        93.301919\n",
      "75%       101.492461\n",
      "max       132.283396\n",
      "Name: CVX, dtype: float64, 'DIS': count    2055.000000\n",
      "mean       69.628144\n",
      "std        29.673300\n",
      "min        26.261777\n",
      "25%        38.611844\n",
      "50%        72.050432\n",
      "75%        98.221338\n",
      "max       117.311868\n",
      "Name: DIS, dtype: float64, 'DWDP': count    129.000000\n",
      "mean      70.625721\n",
      "std        2.768709\n",
      "min       62.731099\n",
      "25%       69.586902\n",
      "50%       70.589299\n",
      "75%       71.535810\n",
      "max       76.617641\n",
      "Name: DWDP, dtype: float64, 'FB': count    1456.000000\n",
      "mean       88.543663\n",
      "std        47.950159\n",
      "min        17.729000\n",
      "25%        49.010000\n",
      "50%        80.675000\n",
      "75%       121.807500\n",
      "max       193.090000\n",
      "Name: FB, dtype: float64, 'GE': count    2055.000000\n",
      "mean       20.623390\n",
      "std         5.559874\n",
      "min        10.757475\n",
      "25%        15.669417\n",
      "50%        21.000307\n",
      "75%        24.605650\n",
      "max        31.120260\n",
      "Name: GE, dtype: float64, 'GILD': count    2055.000000\n",
      "mean       56.600132\n",
      "std        30.553643\n",
      "min        14.831386\n",
      "25%        21.916249\n",
      "50%        65.159743\n",
      "75%        81.163876\n",
      "max       114.305231\n",
      "Name: GILD, dtype: float64, 'GOOG': count     991.000000\n",
      "mean      731.208798\n",
      "std       171.243811\n",
      "min       492.550000\n",
      "25%       566.010000\n",
      "50%       724.890000\n",
      "75%       829.180000\n",
      "max      1175.840000\n",
      "Name: GOOG, dtype: float64, 'GOOGL': count    2055.000000\n",
      "mean      538.439412\n",
      "std       244.147502\n",
      "min       218.710137\n",
      "25%       306.202718\n",
      "50%       532.110000\n",
      "75%       733.220000\n",
      "max      1187.560000\n",
      "Name: GOOGL, dtype: float64, 'HD': count    2055.000000\n",
      "mean       81.996336\n",
      "std        45.788542\n",
      "min        22.540027\n",
      "25%        38.552980\n",
      "50%        72.331522\n",
      "75%       121.260173\n",
      "max       206.041609\n",
      "Name: HD, dtype: float64, 'HON': count    2055.000000\n",
      "mean       80.550151\n",
      "std        32.922559\n",
      "min        30.556128\n",
      "25%        50.300579\n",
      "50%        83.138828\n",
      "75%       100.395436\n",
      "max       164.192119\n",
      "Name: HON, dtype: float64, 'IBM': count    2055.000000\n",
      "mean      147.350307\n",
      "std        20.204752\n",
      "min        98.857927\n",
      "25%       137.395517\n",
      "50%       150.552109\n",
      "75%       163.299067\n",
      "max       184.529976\n",
      "Name: IBM, dtype: float64, 'INTC': count    2055.000000\n",
      "mean       25.467309\n",
      "std         7.955179\n",
      "min        13.852401\n",
      "25%        18.340742\n",
      "50%        22.830782\n",
      "75%        31.505073\n",
      "max        49.910000\n",
      "Name: INTC, dtype: float64, 'JNJ': count    2055.000000\n",
      "mean       82.695168\n",
      "std        27.875378\n",
      "min        45.031155\n",
      "25%        54.175024\n",
      "50%        83.650254\n",
      "75%        99.213273\n",
      "max       147.203745\n",
      "Name: JNJ, dtype: float64, 'JPM': count    2055.000000\n",
      "mean       52.858795\n",
      "std        20.871060\n",
      "min        24.020546\n",
      "25%        35.506223\n",
      "50%        50.562225\n",
      "75%        61.855880\n",
      "max       118.770000\n",
      "Name: JPM, dtype: float64, 'KO': count    2055.000000\n",
      "mean       34.274791\n",
      "std         6.871010\n",
      "min        19.634121\n",
      "25%        28.407623\n",
      "50%        35.104439\n",
      "75%        39.620609\n",
      "max        48.101503\n",
      "Name: KO, dtype: float64, 'MA': count    2055.000000\n",
      "mean       69.533992\n",
      "std        37.120213\n",
      "min        18.467653\n",
      "25%        36.013331\n",
      "50%        72.259496\n",
      "75%        94.224839\n",
      "max       177.870000\n",
      "Name: MA, dtype: float64, 'MCD': count    2055.000000\n",
      "mean       92.115612\n",
      "std        29.338460\n",
      "min        47.610986\n",
      "25%        74.161778\n",
      "50%        84.777884\n",
      "75%       110.055932\n",
      "max       177.225237\n",
      "Name: MCD, dtype: float64, 'MDT': count    2055.000000\n",
      "mean       54.679667\n",
      "std        19.526012\n",
      "min        26.275032\n",
      "25%        34.728850\n",
      "50%        53.334216\n",
      "75%        72.854949\n",
      "max        87.365564\n",
      "Name: MDT, dtype: float64, 'MMM': count    2055.000000\n",
      "mean      122.517625\n",
      "std        48.566188\n",
      "min        60.357008\n",
      "25%        76.586101\n",
      "50%       120.151883\n",
      "75%       154.327168\n",
      "max       257.141041\n",
      "Name: MMM, dtype: float64, 'MO': count    2055.000000\n",
      "mean       38.215591\n",
      "std        18.423126\n",
      "min        12.997505\n",
      "25%        21.902735\n",
      "50%        31.244679\n",
      "75%        56.042301\n",
      "max        75.375624\n",
      "Name: MO, dtype: float64, 'MRK': count    2055.000000\n",
      "mean       43.451927\n",
      "std        12.458673\n",
      "min        23.560625\n",
      "25%        30.681171\n",
      "50%        45.678490\n",
      "75%        53.580134\n",
      "max        65.028243\n",
      "Name: MRK, dtype: float64, 'MSFT': count    2055.000000\n",
      "mean       39.165661\n",
      "std        18.082772\n",
      "min        18.784801\n",
      "25%        23.927634\n",
      "50%        33.908718\n",
      "75%        49.849414\n",
      "max        95.420000\n",
      "Name: MSFT, dtype: float64, 'NVDA': count    2055.000000\n",
      "mean       41.199164\n",
      "std        54.027246\n",
      "min         8.231046\n",
      "25%        13.418018\n",
      "50%        17.572143\n",
      "75%        32.275702\n",
      "max       248.925803\n",
      "Name: NVDA, dtype: float64, 'ORCL': count    2055.000000\n",
      "mean       34.397347\n",
      "std         7.673843\n",
      "min        19.538419\n",
      "25%        28.645996\n",
      "50%        34.523480\n",
      "75%        39.509250\n",
      "max        52.750000\n",
      "Name: ORCL, dtype: float64, 'PCLN': count    2051.000000\n",
      "mean      996.652766\n",
      "std       492.564458\n",
      "min       175.190000\n",
      "25%       538.010000\n",
      "50%      1095.340000\n",
      "75%      1301.675000\n",
      "max      2049.000000\n",
      "Name: PCLN, dtype: float64, 'PEP': count    2055.000000\n",
      "mean       77.187097\n",
      "std        21.335191\n",
      "min        46.376335\n",
      "25%        55.705494\n",
      "50%        73.961730\n",
      "75%        94.435338\n",
      "max       120.860144\n",
      "Name: PEP, dtype: float64, 'PFE': count    2055.000000\n",
      "mean       24.289410\n",
      "std         7.409710\n",
      "min        10.619443\n",
      "25%        17.170496\n",
      "50%        25.874347\n",
      "75%        30.845407\n",
      "max        38.663078\n",
      "Name: PFE, dtype: float64, 'PG': count    2055.000000\n",
      "mean       67.483852\n",
      "std        13.561843\n",
      "min        46.405658\n",
      "25%        53.089764\n",
      "50%        69.769577\n",
      "75%        78.073295\n",
      "max        92.983516\n",
      "Name: PG, dtype: float64, 'PM': count    2055.000000\n",
      "mean       71.726150\n",
      "std        20.819240\n",
      "min        30.698748\n",
      "25%        59.004770\n",
      "50%        71.750510\n",
      "75%        82.366681\n",
      "max       118.176368\n",
      "Name: PM, dtype: float64, 'T': count    2055.000000\n",
      "mean       28.128105\n",
      "std         6.593270\n",
      "min        15.963212\n",
      "25%        22.066764\n",
      "50%        28.397651\n",
      "75%        33.103446\n",
      "max        40.493150\n",
      "Name: T, dtype: float64, 'UNH': count    2055.000000\n",
      "mean       88.901352\n",
      "std        53.815762\n",
      "min        24.748427\n",
      "25%        47.075591\n",
      "50%        69.676791\n",
      "75%       117.824384\n",
      "max       247.643530\n",
      "Name: UNH, dtype: float64, 'V': count    2055.000000\n",
      "mean       52.616094\n",
      "std        28.551387\n",
      "min        15.446016\n",
      "25%        24.147251\n",
      "50%        50.791972\n",
      "75%        75.737880\n",
      "max       126.103434\n",
      "Name: V, dtype: float64, 'VZ': count    2055.000000\n",
      "mean       37.377362\n",
      "std         9.354042\n",
      "min        17.374125\n",
      "25%        28.940249\n",
      "50%        40.379815\n",
      "75%        43.831960\n",
      "max        54.720000\n",
      "Name: VZ, dtype: float64, 'WFC': count    2055.000000\n",
      "mean       38.757409\n",
      "std        12.228074\n",
      "min        19.112537\n",
      "25%        26.711262\n",
      "50%        40.776538\n",
      "75%        49.744522\n",
      "max        65.539822\n",
      "Name: WFC, dtype: float64, 'WMT': count    2055.000000\n",
      "mean       62.630906\n",
      "std        13.426017\n",
      "min        39.332958\n",
      "25%        50.527550\n",
      "50%        65.503234\n",
      "75%        69.591240\n",
      "max       108.905880\n",
      "Name: WMT, dtype: float64, 'XOM': count    2055.000000\n",
      "mean       73.470751\n",
      "std        10.678162\n",
      "min        44.766414\n",
      "25%        68.226489\n",
      "50%        75.902587\n",
      "75%        81.136310\n",
      "max        91.594242\n",
      "Name: XOM, dtype: float64}\n"
     ]
    }
   ],
   "source": [
    "stock_stats = {}\n",
    "for col in data.columns:\n",
    "    stock_stats[col] = data[col].describe()\n",
    "\n",
    "\n",
    "print(stock_stats['AAPL'])\n",
    "print()\n",
    "print(stock_stats)"
   ]
  },
  {
   "cell_type": "code",
   "execution_count": null,
   "metadata": {},
   "outputs": [],
   "source": [
    "# With dict c"
   ]
  },
  {
   "cell_type": "code",
   "execution_count": 74,
   "metadata": {},
   "outputs": [
    {
     "data": {
      "text/plain": [
       "dict"
      ]
     },
     "execution_count": 74,
     "metadata": {},
     "output_type": "execute_result"
    }
   ],
   "source": [
    "d = {'Name': 'Angela Merkel', \n",
    "     'Country': 'Germany', \n",
    "     'Profession': 'Chancelor', \n",
    "     'Age': 64}\n",
    "\n",
    "type(d)"
   ]
  },
  {
   "cell_type": "code",
   "execution_count": 75,
   "metadata": {},
   "outputs": [
    {
     "name": "stdout",
     "output_type": "stream",
     "text": [
      "Angela Merkel 64\n"
     ]
    }
   ],
   "source": [
    "print(d['Name'], d['Age'])"
   ]
  },
  {
   "cell_type": "code",
   "execution_count": 76,
   "metadata": {},
   "outputs": [
    {
     "data": {
      "text/plain": [
       "dict_keys(['Name', 'Country', 'Profession', 'Age'])"
      ]
     },
     "execution_count": 76,
     "metadata": {},
     "output_type": "execute_result"
    }
   ],
   "source": [
    "d.keys()"
   ]
  },
  {
   "cell_type": "code",
   "execution_count": 77,
   "metadata": {},
   "outputs": [
    {
     "data": {
      "text/plain": [
       "dict_values(['Angela Merkel', 'Germany', 'Chancelor', 64])"
      ]
     },
     "execution_count": 77,
     "metadata": {},
     "output_type": "execute_result"
    }
   ],
   "source": [
    "d.values()"
   ]
  },
  {
   "cell_type": "code",
   "execution_count": 78,
   "metadata": {},
   "outputs": [
    {
     "data": {
      "text/plain": [
       "dict_items([('Name', 'Angela Merkel'), ('Country', 'Germany'), ('Profession', 'Chancelor'), ('Age', 64)])"
      ]
     },
     "execution_count": 78,
     "metadata": {},
     "output_type": "execute_result"
    }
   ],
   "source": [
    "d.items()"
   ]
  },
  {
   "cell_type": "code",
   "execution_count": 79,
   "metadata": {},
   "outputs": [
    {
     "name": "stdout",
     "output_type": "stream",
     "text": [
      "65\n"
     ]
    }
   ],
   "source": [
    "birthday = True\n",
    "if birthday:\n",
    "    d['Age'] += 1\n",
    "print(d['Age'])"
   ]
  },
  {
   "cell_type": "code",
   "execution_count": 80,
   "metadata": {},
   "outputs": [
    {
     "name": "stdout",
     "output_type": "stream",
     "text": [
      "key: Name, value: Angela Merkel\n",
      "key: Country, value: Germany\n",
      "key: Profession, value: Chancelor\n",
      "key: Age, value: 65\n"
     ]
    }
   ],
   "source": [
    "for k, v in d.items():\n",
    "    print('key: {}, value: {}'.format(k, v))"
   ]
  },
  {
   "cell_type": "markdown",
   "metadata": {},
   "source": [
    "# Sets\n",
    "Sets support the same mathematical operations as a set in math. Sets can be useful when trying to get unique elements in a list, for example."
   ]
  },
  {
   "cell_type": "code",
   "execution_count": 81,
   "metadata": {},
   "outputs": [
    {
     "data": {
      "text/plain": [
       "{'d', 'du', 'u', 'ud'}"
      ]
     },
     "execution_count": 81,
     "metadata": {},
     "output_type": "execute_result"
    }
   ],
   "source": [
    "m = ['u', 'd', 'ud', 'du', 'd', 'du']\n",
    "s = set(m)\n",
    "s"
   ]
  },
  {
   "cell_type": "code",
   "execution_count": 82,
   "metadata": {},
   "outputs": [
    {
     "data": {
      "text/plain": [
       "{'d', 'dd', 'du', 'u', 'ud', 'uu'}"
      ]
     },
     "execution_count": 82,
     "metadata": {},
     "output_type": "execute_result"
    }
   ],
   "source": [
    "t = set(['d', 'dd', 'uu', 'u'])\n",
    "s.union(t)\n"
   ]
  },
  {
   "cell_type": "code",
   "execution_count": 83,
   "metadata": {},
   "outputs": [
    {
     "data": {
      "text/plain": [
       "{'d', 'u'}"
      ]
     },
     "execution_count": 83,
     "metadata": {},
     "output_type": "execute_result"
    }
   ],
   "source": [
    "s.intersection(t)"
   ]
  },
  {
   "cell_type": "code",
   "execution_count": 84,
   "metadata": {},
   "outputs": [
    {
     "data": {
      "text/plain": [
       "{'du', 'ud'}"
      ]
     },
     "execution_count": 84,
     "metadata": {},
     "output_type": "execute_result"
    }
   ],
   "source": [
    "s.difference(t)"
   ]
  },
  {
   "cell_type": "code",
   "execution_count": 85,
   "metadata": {},
   "outputs": [
    {
     "data": {
      "text/plain": [
       "{'dd', 'du', 'ud', 'uu'}"
      ]
     },
     "execution_count": 85,
     "metadata": {},
     "output_type": "execute_result"
    }
   ],
   "source": [
    "s.symmetric_difference(t)"
   ]
  },
  {
   "cell_type": "code",
   "execution_count": null,
   "metadata": {},
   "outputs": [],
   "source": []
  }
 ],
 "metadata": {
  "kernelspec": {
   "display_name": "Python 3",
   "language": "python",
   "name": "python3"
  },
  "language_info": {
   "codemirror_mode": {
    "name": "ipython",
    "version": 3
   },
   "file_extension": ".py",
   "mimetype": "text/x-python",
   "name": "python",
   "nbconvert_exporter": "python",
   "pygments_lexer": "ipython3",
   "version": "3.8.5"
  }
 },
 "nbformat": 4,
 "nbformat_minor": 2
}
